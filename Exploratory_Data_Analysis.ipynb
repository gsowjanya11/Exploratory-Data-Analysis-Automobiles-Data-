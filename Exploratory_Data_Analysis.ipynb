{
  "nbformat": 4,
  "nbformat_minor": 0,
  "metadata": {
    "colab": {
      "provenance": []
    },
    "kernelspec": {
      "name": "python3",
      "display_name": "Python 3"
    },
    "language_info": {
      "name": "python"
    }
  },
  "cells": [
    {
      "cell_type": "markdown",
      "source": [
        "# Exploratory Data Analysis on Automobile Data"
      ],
      "metadata": {
        "id": "EPmzQ2k6eew5"
      }
    },
    {
      "cell_type": "code",
      "source": [
        "##Import standard libraries\n",
        "import pandas as pd\n",
        "import numpy as np\n",
        "import matplotlib.pyplot as plt\n",
        "import seaborn as sns\n",
        "from io import StringIO"
      ],
      "metadata": {
        "id": "MHOzCrseedbc"
      },
      "execution_count": null,
      "outputs": []
    },
    {
      "cell_type": "code",
      "source": [
        "## Download file using pyfetch from URL\n",
        "import requests"
      ],
      "metadata": {
        "id": "s23w32V_ezFi"
      },
      "execution_count": null,
      "outputs": []
    },
    {
      "cell_type": "code",
      "source": [
        "# Using Requests to fetch the URL and download the data\n",
        "response= requests.get(\"https://cf-courses-data.s3.us.cloud-object-storage.appdomain.cloud/IBMDeveloperSkillsNetwork-DA0101EN-SkillsNetwork/labs/Data%20files/automobileEDA.csv\")"
      ],
      "metadata": {
        "id": "HzN0JUPpgAIz"
      },
      "execution_count": null,
      "outputs": []
    },
    {
      "cell_type": "code",
      "source": [
        "# Convert the downloable data into csv\n",
        "df=pd.read_csv(StringIO(response.text))"
      ],
      "metadata": {
        "id": "gnHVUSamgDDH"
      },
      "execution_count": null,
      "outputs": []
    },
    {
      "cell_type": "code",
      "source": [
        "df.columns"
      ],
      "metadata": {
        "id": "JnoQLAUQm5iE"
      },
      "execution_count": null,
      "outputs": []
    },
    {
      "cell_type": "code",
      "source": [
        "df.head()"
      ],
      "metadata": {
        "id": "WZCyF9MagGeP"
      },
      "execution_count": null,
      "outputs": []
    },
    {
      "cell_type": "code",
      "source": [
        "df.tail()"
      ],
      "metadata": {
        "id": "dVHOKQznhTFR"
      },
      "execution_count": null,
      "outputs": []
    },
    {
      "cell_type": "code",
      "source": [
        "df.describe()"
      ],
      "metadata": {
        "id": "ggq1HP2ThUUP"
      },
      "execution_count": null,
      "outputs": []
    },
    {
      "cell_type": "code",
      "source": [
        "df.info()"
      ],
      "metadata": {
        "id": "j6oagyTlhcuY"
      },
      "execution_count": null,
      "outputs": []
    },
    {
      "cell_type": "code",
      "source": [
        "df.shape"
      ],
      "metadata": {
        "id": "CXkaTgK2hwbl"
      },
      "execution_count": null,
      "outputs": []
    },
    {
      "cell_type": "code",
      "source": [
        "df.dtypes"
      ],
      "metadata": {
        "id": "NkZ_Z2Kctp9r"
      },
      "execution_count": null,
      "outputs": []
    },
    {
      "cell_type": "code",
      "source": [
        "## Total no of rows\n",
        "df.shape[0]"
      ],
      "metadata": {
        "id": "32cEv_VAhlcZ"
      },
      "execution_count": null,
      "outputs": []
    },
    {
      "cell_type": "code",
      "source": [
        "## Total no of rows\n",
        "df.shape[1]"
      ],
      "metadata": {
        "id": "fQQbC0ImhodQ"
      },
      "execution_count": null,
      "outputs": []
    },
    {
      "cell_type": "code",
      "source": [
        "df.size"
      ],
      "metadata": {
        "id": "6npIWkcWh0eU"
      },
      "execution_count": null,
      "outputs": []
    },
    {
      "cell_type": "code",
      "source": [
        "## Checking for Null values\n",
        "df.isnull().sum()"
      ],
      "metadata": {
        "id": "HShHEOsAh4LZ"
      },
      "execution_count": null,
      "outputs": []
    },
    {
      "cell_type": "code",
      "source": [
        "df.isnull().sum()"
      ],
      "metadata": {
        "id": "0AS88nhSjwRH"
      },
      "execution_count": null,
      "outputs": []
    },
    {
      "cell_type": "code",
      "source": [
        "## Checking for duplicate rows\n",
        "df[df.duplicated()==True]"
      ],
      "metadata": {
        "id": "b46pP2QFiCjJ"
      },
      "execution_count": null,
      "outputs": []
    },
    {
      "cell_type": "code",
      "source": [
        "## To filter rows with Nan Values\n",
        "df[df.isnull().any(axis=1)]"
      ],
      "metadata": {
        "id": "AQV_pnIAk3mz"
      },
      "execution_count": null,
      "outputs": []
    },
    {
      "cell_type": "code",
      "source": [
        "## View 2 column data with Nan Values\n",
        "df[df.isnull().any(axis=1)][['horsepower-binned','stroke']]"
      ],
      "metadata": {
        "id": "aZa7DnuPiV9r"
      },
      "execution_count": null,
      "outputs": []
    },
    {
      "cell_type": "code",
      "source": [
        "## Replace Null Values with mean\n",
        "df=df = df.dropna().reset_index(drop=True)"
      ],
      "metadata": {
        "id": "ie_PVTBTlQqe"
      },
      "execution_count": null,
      "outputs": []
    },
    {
      "cell_type": "code",
      "source": [
        "## Fetching dropped index row ,which automatically fetches next row\n",
        "df.iloc[46]"
      ],
      "metadata": {
        "id": "dOlFD89rmLpg"
      },
      "execution_count": null,
      "outputs": []
    },
    {
      "cell_type": "code",
      "source": [
        "## reset index on the table\n",
        "df.reset_index(drop=True)"
      ],
      "metadata": {
        "id": "03XIamIimwHE"
      },
      "execution_count": null,
      "outputs": []
    },
    {
      "cell_type": "code",
      "source": [
        "df.iloc[46]"
      ],
      "metadata": {
        "id": "JjILpBsEvQUJ"
      },
      "execution_count": null,
      "outputs": []
    },
    {
      "cell_type": "code",
      "source": [
        "df.columns"
      ],
      "metadata": {
        "id": "L4qTCfv9rPt4"
      },
      "execution_count": null,
      "outputs": []
    },
    {
      "cell_type": "code",
      "source": [
        "## Unique values in each column\n",
        "df.nunique()"
      ],
      "metadata": {
        "id": "j4BkRno6sAE_"
      },
      "execution_count": null,
      "outputs": []
    },
    {
      "cell_type": "code",
      "source": [
        "## to view unqiue values in all columns\n",
        "for col in df.columns:\n",
        "    unique_vals = df[col].unique()\n",
        "    print(f\"Column: {col}\")\n",
        "    print(f\"Unique values ({len(unique_vals)}): {unique_vals}\\n\")\n"
      ],
      "metadata": {
        "id": "SXj0P88np6NY"
      },
      "execution_count": null,
      "outputs": []
    },
    {
      "cell_type": "code",
      "source": [
        "Columns=df[['body-style','engine-type','horsepower-binned']]"
      ],
      "metadata": {
        "id": "A-1_pTxrrjgU"
      },
      "execution_count": null,
      "outputs": []
    },
    {
      "cell_type": "code",
      "source": [
        "## to view unqiue values in selected columns\n",
        "for col in Columns:\n",
        "    unique_vals = df[col].unique()\n",
        "    print(f\"Column: {col}\")\n",
        "    print(f\"Unique values ({len(unique_vals)}): {unique_vals}\\n\")"
      ],
      "metadata": {
        "id": "-z5n_N7XtcGM"
      },
      "execution_count": null,
      "outputs": []
    },
    {
      "cell_type": "code",
      "source": [
        "# To check data type of all columns\n",
        "for col in df.columns:\n",
        "    datatype = df[col].dtypes\n",
        "    print(f\"Data Type for {col} is : {datatype}\\n\")"
      ],
      "metadata": {
        "id": "YMkwkFKUqLBJ"
      },
      "execution_count": null,
      "outputs": []
    },
    {
      "cell_type": "markdown",
      "source": [
        "## Correlation Matrix"
      ],
      "metadata": {
        "id": "7AAYzhAXvSJ8"
      }
    },
    {
      "cell_type": "code",
      "source": [
        "df.dtypes"
      ],
      "metadata": {
        "id": "VLlA3yJlwHUw"
      },
      "execution_count": null,
      "outputs": []
    },
    {
      "cell_type": "code",
      "source": [
        "## To view correaltion matrix , we need to fetch only numerical dataypes columns in the table\n",
        "df_corr=df[df.select_dtypes(include=['number']).columns].corr()"
      ],
      "metadata": {
        "id": "YT7vmXoAu7d0"
      },
      "execution_count": null,
      "outputs": []
    },
    {
      "cell_type": "code",
      "source": [
        "## Plotting Correlation Matrix using Heatmap\n",
        "plt.figure(figsize = (14,16))\n",
        "sns.heatmap(df_corr,annot=True)\n",
        "plt.title(\"Correlation Matrix\")\n",
        "plt.show()"
      ],
      "metadata": {
        "id": "5h_7QKoMvt2L"
      },
      "execution_count": null,
      "outputs": []
    },
    {
      "cell_type": "code",
      "source": [
        "df.columns\n"
      ],
      "metadata": {
        "id": "PM2XbjZqxvcB"
      },
      "execution_count": null,
      "outputs": []
    },
    {
      "cell_type": "code",
      "source": [
        "## Correlation with respect to one column\n",
        "df_corr_price=df.select_dtypes(include=['number']).corr()['price'].sort_values(ascending=True)\n",
        "type(df_corr_price)"
      ],
      "metadata": {
        "id": "ArDw3Rrc0MZp"
      },
      "execution_count": null,
      "outputs": []
    },
    {
      "cell_type": "code",
      "source": [
        "#Convert series into DataFRame\n",
        "df_corr_price=pd.DataFrame(df_corr_price)"
      ],
      "metadata": {
        "id": "sytsm0j32Kb6"
      },
      "execution_count": null,
      "outputs": []
    },
    {
      "cell_type": "code",
      "source": [
        "type(df_corr_price)"
      ],
      "metadata": {
        "id": "e3eGxp0N2Ntn"
      },
      "execution_count": null,
      "outputs": []
    },
    {
      "cell_type": "code",
      "source": [
        "## Plot correlation with respect to Price column\n",
        "plt.figure(figsize=(10,6))\n",
        "sns.heatmap(df_corr_price,annot=True)\n",
        "plt.title(\"Correlation Matrix for Price\")\n",
        "plt.show()"
      ],
      "metadata": {
        "id": "Y6r1qKdyyTRZ"
      },
      "execution_count": null,
      "outputs": []
    },
    {
      "cell_type": "code",
      "source": [
        "## Finding correlation with repect to 4 columns bore, stroke, compression-ratio, and horsepower.\n",
        "df_columns_corr=df[['bore', 'stroke', 'compression-ratio', 'horsepower']].corr()"
      ],
      "metadata": {
        "id": "cRgDpahAzkj7"
      },
      "execution_count": null,
      "outputs": []
    },
    {
      "cell_type": "code",
      "source": [
        "df_columns_corr"
      ],
      "metadata": {
        "id": "iD6erQt02v9j"
      },
      "execution_count": null,
      "outputs": []
    },
    {
      "cell_type": "code",
      "source": [
        "plt.figure(figsize=(10,4))\n",
        "sns.heatmap(df_columns_corr,annot=True)\n",
        "plt.title(\"Correlation Matrix for Price\")\n",
        "plt.show()"
      ],
      "metadata": {
        "id": "3zox_l2D2zjq"
      },
      "execution_count": null,
      "outputs": []
    },
    {
      "cell_type": "markdown",
      "source": [
        "## Visualizations\n"
      ],
      "metadata": {
        "id": "kbNGkGSZ3k8O"
      }
    },
    {
      "cell_type": "code",
      "source": [
        "df_cols=df[['price','peak-rpm','highway-mpg','engine-size']]\n",
        "sns.pairplot(df_cols)"
      ],
      "metadata": {
        "id": "Mz9wTbi_3tfF"
      },
      "execution_count": null,
      "outputs": []
    },
    {
      "cell_type": "markdown",
      "source": [
        "There is a perfect positive linear relationship between price and engine-size and perfect negative linear relationship between price and hhighway-mpg .However , we dont see any relationship betweeen price and peak-rpm. Let see their correlation matrix"
      ],
      "metadata": {
        "id": "akvNmfPP41ib"
      }
    },
    {
      "cell_type": "code",
      "source": [
        "df_cols.corr()"
      ],
      "metadata": {
        "id": "OhM7nf5Y3wcL"
      },
      "execution_count": null,
      "outputs": []
    },
    {
      "cell_type": "markdown",
      "source": [
        "# Examine the correlation\n"
      ],
      "metadata": {
        "id": "4V-4eg0O5jWL"
      }
    },
    {
      "cell_type": "code",
      "source": [
        "# Perfect Positive Linear relatioship\n",
        "sns.regplot(x='engine-size',y='price',data=df_cols)"
      ],
      "metadata": {
        "id": "aprU7jfK5NoF"
      },
      "execution_count": null,
      "outputs": []
    },
    {
      "cell_type": "code",
      "source": [
        "# Perfect negative Linear relatioship\n",
        "sns.regplot(x='highway-mpg',y='price',data=df_cols)"
      ],
      "metadata": {
        "id": "jtJ8JH855JWd"
      },
      "execution_count": null,
      "outputs": []
    },
    {
      "cell_type": "code",
      "source": [
        "# Weak Linear relatioship\n",
        "sns.regplot(x='peak-rpm',y='price',data=df_cols)"
      ],
      "metadata": {
        "id": "ywxiP8Em55nf"
      },
      "execution_count": null,
      "outputs": []
    },
    {
      "cell_type": "markdown",
      "source": [
        "Box Plot for Categorical Variables"
      ],
      "metadata": {
        "id": "XYv7Uh1o64p6"
      }
    },
    {
      "cell_type": "code",
      "source": [
        "sns.boxplot(x=\"body-style\", y=\"price\", data=df)\n",
        "plt.show()"
      ],
      "metadata": {
        "id": "MjKZxFnl5_tu"
      },
      "execution_count": null,
      "outputs": []
    },
    {
      "cell_type": "markdown",
      "source": [
        "## Grouping\n"
      ],
      "metadata": {
        "id": "BZfAsHTXWOg5"
      }
    },
    {
      "cell_type": "code",
      "source": [
        "df.groupby('body-style')[['price','engine-size']].sum()"
      ],
      "metadata": {
        "id": "-0RcmiT3Xx1Q"
      },
      "execution_count": null,
      "outputs": []
    },
    {
      "cell_type": "code",
      "source": [
        "##Multiple aggregations\n",
        "df.groupby('body-style')[['price','engine-size']].agg(['mean','median','count','sum'])"
      ],
      "metadata": {
        "id": "yzu5DMbO63DA"
      },
      "execution_count": null,
      "outputs": []
    },
    {
      "cell_type": "code",
      "source": [
        "##Multiple aggregations\n",
        "df.groupby('body-style')[['price','engine-size']].agg({'price':'mean','engine-size':'count'})"
      ],
      "metadata": {
        "id": "QUfnNOfXWeu-"
      },
      "execution_count": null,
      "outputs": []
    },
    {
      "cell_type": "code",
      "source": [
        "df.head()"
      ],
      "metadata": {
        "id": "YiwpSNbYYJCV"
      },
      "execution_count": null,
      "outputs": []
    },
    {
      "cell_type": "code",
      "source": [
        "df_grouped=df.groupby(['body-style','engine-location'],as_index=False)['price'].sum()\n",
        "df_grouped=pd.DataFrame(df_grouped)\n",
        "print(type(df_grouped))"
      ],
      "metadata": {
        "id": "8J1JEEB6ZNnQ"
      },
      "execution_count": null,
      "outputs": []
    },
    {
      "cell_type": "code",
      "source": [
        "df_grouped"
      ],
      "metadata": {
        "id": "EUD27wzNaPee"
      },
      "execution_count": null,
      "outputs": []
    },
    {
      "cell_type": "code",
      "source": [
        "## Pivoting\n",
        "df.pivot_table(index='body-style',columns='engine-location',values='price')"
      ],
      "metadata": {
        "id": "WWIyoHbiYi91"
      },
      "execution_count": null,
      "outputs": []
    },
    {
      "cell_type": "code",
      "source": [
        "df_corr1=df.select_dtypes(include=['number'])[['price','bore','engine-size']].corr()\n",
        "sns.heatmap(df_corr1,annot=True)"
      ],
      "metadata": {
        "id": "E7fHPAM8YrVN"
      },
      "execution_count": null,
      "outputs": []
    },
    {
      "cell_type": "markdown",
      "source": [
        "To find the important features to predict the car price . To find out the features which are highly correlated either in a positive or negative.Example below identify features with correlation greater than equal to 0.75"
      ],
      "metadata": {
        "id": "61b9HdU2gN_J"
      }
    },
    {
      "cell_type": "code",
      "source": [
        "df_correlation=df.select_dtypes(include=['number']).corr()"
      ],
      "metadata": {
        "id": "xAH1_59aak1F"
      },
      "execution_count": null,
      "outputs": []
    },
    {
      "cell_type": "code",
      "source": [
        "df_correlation"
      ],
      "metadata": {
        "colab": {
          "base_uri": "https://localhost:8080/",
          "height": 697
        },
        "id": "802G-wSlmmI4",
        "outputId": "948c52f9-b5e0-46d5-c722-a6b12a4b4d56"
      },
      "execution_count": null,
      "outputs": [
        {
          "output_type": "execute_result",
          "data": {
            "text/plain": [
              "                   symboling  normalized-losses  wheel-base    length  \\\n",
              "symboling           1.000000           0.453423   -0.533112 -0.359883   \n",
              "normalized-losses   0.453423           1.000000   -0.046971  0.027234   \n",
              "wheel-base         -0.533112          -0.046971    1.000000  0.876945   \n",
              "length             -0.359883           0.027234    0.876945  1.000000   \n",
              "width              -0.242821           0.090056    0.821427  0.857249   \n",
              "height             -0.539407          -0.362499    0.607417  0.522367   \n",
              "curb-weight        -0.226121           0.107034    0.790205  0.882091   \n",
              "engine-size        -0.055329           0.147862    0.592517  0.698626   \n",
              "bore               -0.142125          -0.030152    0.493941  0.608496   \n",
              "stroke             -0.013520           0.056054    0.163725  0.136850   \n",
              "compression-ratio  -0.180275          -0.112288    0.248383  0.156926   \n",
              "horsepower          0.090778           0.226654    0.381984  0.583073   \n",
              "peak-rpm            0.229436           0.215903   -0.351925 -0.280397   \n",
              "city-mpg            0.004688          -0.208695   -0.496565 -0.686142   \n",
              "highway-mpg         0.073359          -0.166772   -0.566948 -0.715124   \n",
              "price              -0.076420           0.138183    0.591956  0.689466   \n",
              "city-L/100km        0.021612           0.223308    0.517050  0.690579   \n",
              "diesel             -0.192544          -0.096487    0.305889  0.212484   \n",
              "gas                 0.192544           0.096487   -0.305889 -0.212484   \n",
              "\n",
              "                      width    height  curb-weight  engine-size      bore  \\\n",
              "symboling         -0.242821 -0.539407    -0.226121    -0.055329 -0.142125   \n",
              "normalized-losses  0.090056 -0.362499     0.107034     0.147862 -0.030152   \n",
              "wheel-base         0.821427  0.607417     0.790205     0.592517  0.493941   \n",
              "length             0.857249  0.522367     0.882091     0.698626  0.608496   \n",
              "width              1.000000  0.351127     0.862835     0.739543  0.543859   \n",
              "height             0.351127  1.000000     0.354085     0.100518  0.199490   \n",
              "curb-weight        0.862835  0.354085     1.000000     0.858968  0.646918   \n",
              "engine-size        0.739543  0.100518     0.858968     1.000000  0.601384   \n",
              "bore               0.543859  0.199490     0.646918     0.601384  1.000000   \n",
              "stroke             0.210495 -0.084755     0.193575     0.265626 -0.049606   \n",
              "compression-ratio  0.188331  0.269773     0.153952     0.017246 -0.000044   \n",
              "horsepower         0.604099 -0.031489     0.750749     0.825377  0.579114   \n",
              "peak-rpm          -0.252116 -0.270020    -0.281231    -0.227577 -0.276668   \n",
              "city-mpg          -0.639692 -0.128523    -0.766146    -0.712693 -0.591597   \n",
              "highway-mpg       -0.684550 -0.181670    -0.808146    -0.734062 -0.598455   \n",
              "price              0.744176  0.182407     0.828483     0.889265  0.544375   \n",
              "city-L/100km       0.685663  0.111120     0.809512     0.814696  0.574286   \n",
              "diesel             0.251112  0.279063     0.228445     0.076032  0.055927   \n",
              "gas               -0.251112 -0.279063    -0.228445    -0.076032 -0.055927   \n",
              "\n",
              "                     stroke  compression-ratio  horsepower  peak-rpm  \\\n",
              "symboling         -0.013520          -0.180275    0.090778  0.229436   \n",
              "normalized-losses  0.056054          -0.112288    0.226654  0.215903   \n",
              "wheel-base         0.163725           0.248383    0.381984 -0.351925   \n",
              "length             0.136850           0.156926    0.583073 -0.280397   \n",
              "width              0.210495           0.188331    0.604099 -0.252116   \n",
              "height            -0.084755           0.269773   -0.031489 -0.270020   \n",
              "curb-weight        0.193575           0.153952    0.750749 -0.281231   \n",
              "engine-size        0.265626           0.017246    0.825377 -0.227577   \n",
              "bore              -0.049606          -0.000044    0.579114 -0.276668   \n",
              "stroke             1.000000           0.191776    0.139409 -0.067852   \n",
              "compression-ratio  0.191776           1.000000   -0.232284 -0.444291   \n",
              "horsepower         0.139409          -0.232284    1.000000  0.115695   \n",
              "peak-rpm          -0.067852          -0.444291    0.115695  1.000000   \n",
              "city-mpg          -0.050971           0.338958   -0.838567 -0.072490   \n",
              "highway-mpg       -0.052345           0.274085   -0.815187 -0.019383   \n",
              "price              0.107893           0.067759    0.802040 -0.103535   \n",
              "city-L/100km       0.065893          -0.315942    0.904611  0.064035   \n",
              "diesel             0.240193           0.986527   -0.169128 -0.481419   \n",
              "gas               -0.240193          -0.986527    0.169128  0.481419   \n",
              "\n",
              "                   city-mpg  highway-mpg     price  city-L/100km    diesel  \\\n",
              "symboling          0.004688     0.073359 -0.076420      0.021612 -0.192544   \n",
              "normalized-losses -0.208695    -0.166772  0.138183      0.223308 -0.096487   \n",
              "wheel-base        -0.496565    -0.566948  0.591956      0.517050  0.305889   \n",
              "length            -0.686142    -0.715124  0.689466      0.690579  0.212484   \n",
              "width             -0.639692    -0.684550  0.744176      0.685663  0.251112   \n",
              "height            -0.128523    -0.181670  0.182407      0.111120  0.279063   \n",
              "curb-weight       -0.766146    -0.808146  0.828483      0.809512  0.228445   \n",
              "engine-size       -0.712693    -0.734062  0.889265      0.814696  0.076032   \n",
              "bore              -0.591597    -0.598455  0.544375      0.574286  0.055927   \n",
              "stroke            -0.050971    -0.052345  0.107893      0.065893  0.240193   \n",
              "compression-ratio  0.338958     0.274085  0.067759     -0.315942  0.986527   \n",
              "horsepower        -0.838567    -0.815187  0.802040      0.904611 -0.169128   \n",
              "peak-rpm          -0.072490    -0.019383 -0.103535      0.064035 -0.481419   \n",
              "city-mpg           1.000000     0.971016 -0.692550     -0.951563  0.261005   \n",
              "highway-mpg        0.971016     1.000000 -0.707466     -0.931565  0.192416   \n",
              "price             -0.692550    -0.707466  1.000000      0.803669  0.117725   \n",
              "city-L/100km      -0.951563    -0.931565  0.803669      1.000000 -0.238199   \n",
              "diesel             0.261005     0.192416  0.117725     -0.238199  1.000000   \n",
              "gas               -0.261005    -0.192416 -0.117725      0.238199 -1.000000   \n",
              "\n",
              "                        gas  \n",
              "symboling          0.192544  \n",
              "normalized-losses  0.096487  \n",
              "wheel-base        -0.305889  \n",
              "length            -0.212484  \n",
              "width             -0.251112  \n",
              "height            -0.279063  \n",
              "curb-weight       -0.228445  \n",
              "engine-size       -0.076032  \n",
              "bore              -0.055927  \n",
              "stroke            -0.240193  \n",
              "compression-ratio -0.986527  \n",
              "horsepower         0.169128  \n",
              "peak-rpm           0.481419  \n",
              "city-mpg          -0.261005  \n",
              "highway-mpg       -0.192416  \n",
              "price             -0.117725  \n",
              "city-L/100km       0.238199  \n",
              "diesel            -1.000000  \n",
              "gas                1.000000  "
            ],
            "text/html": [
              "\n",
              "  <div id=\"df-62d785e9-2f2a-4f9e-8e1a-d9920b4ddf70\" class=\"colab-df-container\">\n",
              "    <div>\n",
              "<style scoped>\n",
              "    .dataframe tbody tr th:only-of-type {\n",
              "        vertical-align: middle;\n",
              "    }\n",
              "\n",
              "    .dataframe tbody tr th {\n",
              "        vertical-align: top;\n",
              "    }\n",
              "\n",
              "    .dataframe thead th {\n",
              "        text-align: right;\n",
              "    }\n",
              "</style>\n",
              "<table border=\"1\" class=\"dataframe\">\n",
              "  <thead>\n",
              "    <tr style=\"text-align: right;\">\n",
              "      <th></th>\n",
              "      <th>symboling</th>\n",
              "      <th>normalized-losses</th>\n",
              "      <th>wheel-base</th>\n",
              "      <th>length</th>\n",
              "      <th>width</th>\n",
              "      <th>height</th>\n",
              "      <th>curb-weight</th>\n",
              "      <th>engine-size</th>\n",
              "      <th>bore</th>\n",
              "      <th>stroke</th>\n",
              "      <th>compression-ratio</th>\n",
              "      <th>horsepower</th>\n",
              "      <th>peak-rpm</th>\n",
              "      <th>city-mpg</th>\n",
              "      <th>highway-mpg</th>\n",
              "      <th>price</th>\n",
              "      <th>city-L/100km</th>\n",
              "      <th>diesel</th>\n",
              "      <th>gas</th>\n",
              "    </tr>\n",
              "  </thead>\n",
              "  <tbody>\n",
              "    <tr>\n",
              "      <th>symboling</th>\n",
              "      <td>1.000000</td>\n",
              "      <td>0.453423</td>\n",
              "      <td>-0.533112</td>\n",
              "      <td>-0.359883</td>\n",
              "      <td>-0.242821</td>\n",
              "      <td>-0.539407</td>\n",
              "      <td>-0.226121</td>\n",
              "      <td>-0.055329</td>\n",
              "      <td>-0.142125</td>\n",
              "      <td>-0.013520</td>\n",
              "      <td>-0.180275</td>\n",
              "      <td>0.090778</td>\n",
              "      <td>0.229436</td>\n",
              "      <td>0.004688</td>\n",
              "      <td>0.073359</td>\n",
              "      <td>-0.076420</td>\n",
              "      <td>0.021612</td>\n",
              "      <td>-0.192544</td>\n",
              "      <td>0.192544</td>\n",
              "    </tr>\n",
              "    <tr>\n",
              "      <th>normalized-losses</th>\n",
              "      <td>0.453423</td>\n",
              "      <td>1.000000</td>\n",
              "      <td>-0.046971</td>\n",
              "      <td>0.027234</td>\n",
              "      <td>0.090056</td>\n",
              "      <td>-0.362499</td>\n",
              "      <td>0.107034</td>\n",
              "      <td>0.147862</td>\n",
              "      <td>-0.030152</td>\n",
              "      <td>0.056054</td>\n",
              "      <td>-0.112288</td>\n",
              "      <td>0.226654</td>\n",
              "      <td>0.215903</td>\n",
              "      <td>-0.208695</td>\n",
              "      <td>-0.166772</td>\n",
              "      <td>0.138183</td>\n",
              "      <td>0.223308</td>\n",
              "      <td>-0.096487</td>\n",
              "      <td>0.096487</td>\n",
              "    </tr>\n",
              "    <tr>\n",
              "      <th>wheel-base</th>\n",
              "      <td>-0.533112</td>\n",
              "      <td>-0.046971</td>\n",
              "      <td>1.000000</td>\n",
              "      <td>0.876945</td>\n",
              "      <td>0.821427</td>\n",
              "      <td>0.607417</td>\n",
              "      <td>0.790205</td>\n",
              "      <td>0.592517</td>\n",
              "      <td>0.493941</td>\n",
              "      <td>0.163725</td>\n",
              "      <td>0.248383</td>\n",
              "      <td>0.381984</td>\n",
              "      <td>-0.351925</td>\n",
              "      <td>-0.496565</td>\n",
              "      <td>-0.566948</td>\n",
              "      <td>0.591956</td>\n",
              "      <td>0.517050</td>\n",
              "      <td>0.305889</td>\n",
              "      <td>-0.305889</td>\n",
              "    </tr>\n",
              "    <tr>\n",
              "      <th>length</th>\n",
              "      <td>-0.359883</td>\n",
              "      <td>0.027234</td>\n",
              "      <td>0.876945</td>\n",
              "      <td>1.000000</td>\n",
              "      <td>0.857249</td>\n",
              "      <td>0.522367</td>\n",
              "      <td>0.882091</td>\n",
              "      <td>0.698626</td>\n",
              "      <td>0.608496</td>\n",
              "      <td>0.136850</td>\n",
              "      <td>0.156926</td>\n",
              "      <td>0.583073</td>\n",
              "      <td>-0.280397</td>\n",
              "      <td>-0.686142</td>\n",
              "      <td>-0.715124</td>\n",
              "      <td>0.689466</td>\n",
              "      <td>0.690579</td>\n",
              "      <td>0.212484</td>\n",
              "      <td>-0.212484</td>\n",
              "    </tr>\n",
              "    <tr>\n",
              "      <th>width</th>\n",
              "      <td>-0.242821</td>\n",
              "      <td>0.090056</td>\n",
              "      <td>0.821427</td>\n",
              "      <td>0.857249</td>\n",
              "      <td>1.000000</td>\n",
              "      <td>0.351127</td>\n",
              "      <td>0.862835</td>\n",
              "      <td>0.739543</td>\n",
              "      <td>0.543859</td>\n",
              "      <td>0.210495</td>\n",
              "      <td>0.188331</td>\n",
              "      <td>0.604099</td>\n",
              "      <td>-0.252116</td>\n",
              "      <td>-0.639692</td>\n",
              "      <td>-0.684550</td>\n",
              "      <td>0.744176</td>\n",
              "      <td>0.685663</td>\n",
              "      <td>0.251112</td>\n",
              "      <td>-0.251112</td>\n",
              "    </tr>\n",
              "    <tr>\n",
              "      <th>height</th>\n",
              "      <td>-0.539407</td>\n",
              "      <td>-0.362499</td>\n",
              "      <td>0.607417</td>\n",
              "      <td>0.522367</td>\n",
              "      <td>0.351127</td>\n",
              "      <td>1.000000</td>\n",
              "      <td>0.354085</td>\n",
              "      <td>0.100518</td>\n",
              "      <td>0.199490</td>\n",
              "      <td>-0.084755</td>\n",
              "      <td>0.269773</td>\n",
              "      <td>-0.031489</td>\n",
              "      <td>-0.270020</td>\n",
              "      <td>-0.128523</td>\n",
              "      <td>-0.181670</td>\n",
              "      <td>0.182407</td>\n",
              "      <td>0.111120</td>\n",
              "      <td>0.279063</td>\n",
              "      <td>-0.279063</td>\n",
              "    </tr>\n",
              "    <tr>\n",
              "      <th>curb-weight</th>\n",
              "      <td>-0.226121</td>\n",
              "      <td>0.107034</td>\n",
              "      <td>0.790205</td>\n",
              "      <td>0.882091</td>\n",
              "      <td>0.862835</td>\n",
              "      <td>0.354085</td>\n",
              "      <td>1.000000</td>\n",
              "      <td>0.858968</td>\n",
              "      <td>0.646918</td>\n",
              "      <td>0.193575</td>\n",
              "      <td>0.153952</td>\n",
              "      <td>0.750749</td>\n",
              "      <td>-0.281231</td>\n",
              "      <td>-0.766146</td>\n",
              "      <td>-0.808146</td>\n",
              "      <td>0.828483</td>\n",
              "      <td>0.809512</td>\n",
              "      <td>0.228445</td>\n",
              "      <td>-0.228445</td>\n",
              "    </tr>\n",
              "    <tr>\n",
              "      <th>engine-size</th>\n",
              "      <td>-0.055329</td>\n",
              "      <td>0.147862</td>\n",
              "      <td>0.592517</td>\n",
              "      <td>0.698626</td>\n",
              "      <td>0.739543</td>\n",
              "      <td>0.100518</td>\n",
              "      <td>0.858968</td>\n",
              "      <td>1.000000</td>\n",
              "      <td>0.601384</td>\n",
              "      <td>0.265626</td>\n",
              "      <td>0.017246</td>\n",
              "      <td>0.825377</td>\n",
              "      <td>-0.227577</td>\n",
              "      <td>-0.712693</td>\n",
              "      <td>-0.734062</td>\n",
              "      <td>0.889265</td>\n",
              "      <td>0.814696</td>\n",
              "      <td>0.076032</td>\n",
              "      <td>-0.076032</td>\n",
              "    </tr>\n",
              "    <tr>\n",
              "      <th>bore</th>\n",
              "      <td>-0.142125</td>\n",
              "      <td>-0.030152</td>\n",
              "      <td>0.493941</td>\n",
              "      <td>0.608496</td>\n",
              "      <td>0.543859</td>\n",
              "      <td>0.199490</td>\n",
              "      <td>0.646918</td>\n",
              "      <td>0.601384</td>\n",
              "      <td>1.000000</td>\n",
              "      <td>-0.049606</td>\n",
              "      <td>-0.000044</td>\n",
              "      <td>0.579114</td>\n",
              "      <td>-0.276668</td>\n",
              "      <td>-0.591597</td>\n",
              "      <td>-0.598455</td>\n",
              "      <td>0.544375</td>\n",
              "      <td>0.574286</td>\n",
              "      <td>0.055927</td>\n",
              "      <td>-0.055927</td>\n",
              "    </tr>\n",
              "    <tr>\n",
              "      <th>stroke</th>\n",
              "      <td>-0.013520</td>\n",
              "      <td>0.056054</td>\n",
              "      <td>0.163725</td>\n",
              "      <td>0.136850</td>\n",
              "      <td>0.210495</td>\n",
              "      <td>-0.084755</td>\n",
              "      <td>0.193575</td>\n",
              "      <td>0.265626</td>\n",
              "      <td>-0.049606</td>\n",
              "      <td>1.000000</td>\n",
              "      <td>0.191776</td>\n",
              "      <td>0.139409</td>\n",
              "      <td>-0.067852</td>\n",
              "      <td>-0.050971</td>\n",
              "      <td>-0.052345</td>\n",
              "      <td>0.107893</td>\n",
              "      <td>0.065893</td>\n",
              "      <td>0.240193</td>\n",
              "      <td>-0.240193</td>\n",
              "    </tr>\n",
              "    <tr>\n",
              "      <th>compression-ratio</th>\n",
              "      <td>-0.180275</td>\n",
              "      <td>-0.112288</td>\n",
              "      <td>0.248383</td>\n",
              "      <td>0.156926</td>\n",
              "      <td>0.188331</td>\n",
              "      <td>0.269773</td>\n",
              "      <td>0.153952</td>\n",
              "      <td>0.017246</td>\n",
              "      <td>-0.000044</td>\n",
              "      <td>0.191776</td>\n",
              "      <td>1.000000</td>\n",
              "      <td>-0.232284</td>\n",
              "      <td>-0.444291</td>\n",
              "      <td>0.338958</td>\n",
              "      <td>0.274085</td>\n",
              "      <td>0.067759</td>\n",
              "      <td>-0.315942</td>\n",
              "      <td>0.986527</td>\n",
              "      <td>-0.986527</td>\n",
              "    </tr>\n",
              "    <tr>\n",
              "      <th>horsepower</th>\n",
              "      <td>0.090778</td>\n",
              "      <td>0.226654</td>\n",
              "      <td>0.381984</td>\n",
              "      <td>0.583073</td>\n",
              "      <td>0.604099</td>\n",
              "      <td>-0.031489</td>\n",
              "      <td>0.750749</td>\n",
              "      <td>0.825377</td>\n",
              "      <td>0.579114</td>\n",
              "      <td>0.139409</td>\n",
              "      <td>-0.232284</td>\n",
              "      <td>1.000000</td>\n",
              "      <td>0.115695</td>\n",
              "      <td>-0.838567</td>\n",
              "      <td>-0.815187</td>\n",
              "      <td>0.802040</td>\n",
              "      <td>0.904611</td>\n",
              "      <td>-0.169128</td>\n",
              "      <td>0.169128</td>\n",
              "    </tr>\n",
              "    <tr>\n",
              "      <th>peak-rpm</th>\n",
              "      <td>0.229436</td>\n",
              "      <td>0.215903</td>\n",
              "      <td>-0.351925</td>\n",
              "      <td>-0.280397</td>\n",
              "      <td>-0.252116</td>\n",
              "      <td>-0.270020</td>\n",
              "      <td>-0.281231</td>\n",
              "      <td>-0.227577</td>\n",
              "      <td>-0.276668</td>\n",
              "      <td>-0.067852</td>\n",
              "      <td>-0.444291</td>\n",
              "      <td>0.115695</td>\n",
              "      <td>1.000000</td>\n",
              "      <td>-0.072490</td>\n",
              "      <td>-0.019383</td>\n",
              "      <td>-0.103535</td>\n",
              "      <td>0.064035</td>\n",
              "      <td>-0.481419</td>\n",
              "      <td>0.481419</td>\n",
              "    </tr>\n",
              "    <tr>\n",
              "      <th>city-mpg</th>\n",
              "      <td>0.004688</td>\n",
              "      <td>-0.208695</td>\n",
              "      <td>-0.496565</td>\n",
              "      <td>-0.686142</td>\n",
              "      <td>-0.639692</td>\n",
              "      <td>-0.128523</td>\n",
              "      <td>-0.766146</td>\n",
              "      <td>-0.712693</td>\n",
              "      <td>-0.591597</td>\n",
              "      <td>-0.050971</td>\n",
              "      <td>0.338958</td>\n",
              "      <td>-0.838567</td>\n",
              "      <td>-0.072490</td>\n",
              "      <td>1.000000</td>\n",
              "      <td>0.971016</td>\n",
              "      <td>-0.692550</td>\n",
              "      <td>-0.951563</td>\n",
              "      <td>0.261005</td>\n",
              "      <td>-0.261005</td>\n",
              "    </tr>\n",
              "    <tr>\n",
              "      <th>highway-mpg</th>\n",
              "      <td>0.073359</td>\n",
              "      <td>-0.166772</td>\n",
              "      <td>-0.566948</td>\n",
              "      <td>-0.715124</td>\n",
              "      <td>-0.684550</td>\n",
              "      <td>-0.181670</td>\n",
              "      <td>-0.808146</td>\n",
              "      <td>-0.734062</td>\n",
              "      <td>-0.598455</td>\n",
              "      <td>-0.052345</td>\n",
              "      <td>0.274085</td>\n",
              "      <td>-0.815187</td>\n",
              "      <td>-0.019383</td>\n",
              "      <td>0.971016</td>\n",
              "      <td>1.000000</td>\n",
              "      <td>-0.707466</td>\n",
              "      <td>-0.931565</td>\n",
              "      <td>0.192416</td>\n",
              "      <td>-0.192416</td>\n",
              "    </tr>\n",
              "    <tr>\n",
              "      <th>price</th>\n",
              "      <td>-0.076420</td>\n",
              "      <td>0.138183</td>\n",
              "      <td>0.591956</td>\n",
              "      <td>0.689466</td>\n",
              "      <td>0.744176</td>\n",
              "      <td>0.182407</td>\n",
              "      <td>0.828483</td>\n",
              "      <td>0.889265</td>\n",
              "      <td>0.544375</td>\n",
              "      <td>0.107893</td>\n",
              "      <td>0.067759</td>\n",
              "      <td>0.802040</td>\n",
              "      <td>-0.103535</td>\n",
              "      <td>-0.692550</td>\n",
              "      <td>-0.707466</td>\n",
              "      <td>1.000000</td>\n",
              "      <td>0.803669</td>\n",
              "      <td>0.117725</td>\n",
              "      <td>-0.117725</td>\n",
              "    </tr>\n",
              "    <tr>\n",
              "      <th>city-L/100km</th>\n",
              "      <td>0.021612</td>\n",
              "      <td>0.223308</td>\n",
              "      <td>0.517050</td>\n",
              "      <td>0.690579</td>\n",
              "      <td>0.685663</td>\n",
              "      <td>0.111120</td>\n",
              "      <td>0.809512</td>\n",
              "      <td>0.814696</td>\n",
              "      <td>0.574286</td>\n",
              "      <td>0.065893</td>\n",
              "      <td>-0.315942</td>\n",
              "      <td>0.904611</td>\n",
              "      <td>0.064035</td>\n",
              "      <td>-0.951563</td>\n",
              "      <td>-0.931565</td>\n",
              "      <td>0.803669</td>\n",
              "      <td>1.000000</td>\n",
              "      <td>-0.238199</td>\n",
              "      <td>0.238199</td>\n",
              "    </tr>\n",
              "    <tr>\n",
              "      <th>diesel</th>\n",
              "      <td>-0.192544</td>\n",
              "      <td>-0.096487</td>\n",
              "      <td>0.305889</td>\n",
              "      <td>0.212484</td>\n",
              "      <td>0.251112</td>\n",
              "      <td>0.279063</td>\n",
              "      <td>0.228445</td>\n",
              "      <td>0.076032</td>\n",
              "      <td>0.055927</td>\n",
              "      <td>0.240193</td>\n",
              "      <td>0.986527</td>\n",
              "      <td>-0.169128</td>\n",
              "      <td>-0.481419</td>\n",
              "      <td>0.261005</td>\n",
              "      <td>0.192416</td>\n",
              "      <td>0.117725</td>\n",
              "      <td>-0.238199</td>\n",
              "      <td>1.000000</td>\n",
              "      <td>-1.000000</td>\n",
              "    </tr>\n",
              "    <tr>\n",
              "      <th>gas</th>\n",
              "      <td>0.192544</td>\n",
              "      <td>0.096487</td>\n",
              "      <td>-0.305889</td>\n",
              "      <td>-0.212484</td>\n",
              "      <td>-0.251112</td>\n",
              "      <td>-0.279063</td>\n",
              "      <td>-0.228445</td>\n",
              "      <td>-0.076032</td>\n",
              "      <td>-0.055927</td>\n",
              "      <td>-0.240193</td>\n",
              "      <td>-0.986527</td>\n",
              "      <td>0.169128</td>\n",
              "      <td>0.481419</td>\n",
              "      <td>-0.261005</td>\n",
              "      <td>-0.192416</td>\n",
              "      <td>-0.117725</td>\n",
              "      <td>0.238199</td>\n",
              "      <td>-1.000000</td>\n",
              "      <td>1.000000</td>\n",
              "    </tr>\n",
              "  </tbody>\n",
              "</table>\n",
              "</div>\n",
              "    <div class=\"colab-df-buttons\">\n",
              "\n",
              "  <div class=\"colab-df-container\">\n",
              "    <button class=\"colab-df-convert\" onclick=\"convertToInteractive('df-62d785e9-2f2a-4f9e-8e1a-d9920b4ddf70')\"\n",
              "            title=\"Convert this dataframe to an interactive table.\"\n",
              "            style=\"display:none;\">\n",
              "\n",
              "  <svg xmlns=\"http://www.w3.org/2000/svg\" height=\"24px\" viewBox=\"0 -960 960 960\">\n",
              "    <path d=\"M120-120v-720h720v720H120Zm60-500h600v-160H180v160Zm220 220h160v-160H400v160Zm0 220h160v-160H400v160ZM180-400h160v-160H180v160Zm440 0h160v-160H620v160ZM180-180h160v-160H180v160Zm440 0h160v-160H620v160Z\"/>\n",
              "  </svg>\n",
              "    </button>\n",
              "\n",
              "  <style>\n",
              "    .colab-df-container {\n",
              "      display:flex;\n",
              "      gap: 12px;\n",
              "    }\n",
              "\n",
              "    .colab-df-convert {\n",
              "      background-color: #E8F0FE;\n",
              "      border: none;\n",
              "      border-radius: 50%;\n",
              "      cursor: pointer;\n",
              "      display: none;\n",
              "      fill: #1967D2;\n",
              "      height: 32px;\n",
              "      padding: 0 0 0 0;\n",
              "      width: 32px;\n",
              "    }\n",
              "\n",
              "    .colab-df-convert:hover {\n",
              "      background-color: #E2EBFA;\n",
              "      box-shadow: 0px 1px 2px rgba(60, 64, 67, 0.3), 0px 1px 3px 1px rgba(60, 64, 67, 0.15);\n",
              "      fill: #174EA6;\n",
              "    }\n",
              "\n",
              "    .colab-df-buttons div {\n",
              "      margin-bottom: 4px;\n",
              "    }\n",
              "\n",
              "    [theme=dark] .colab-df-convert {\n",
              "      background-color: #3B4455;\n",
              "      fill: #D2E3FC;\n",
              "    }\n",
              "\n",
              "    [theme=dark] .colab-df-convert:hover {\n",
              "      background-color: #434B5C;\n",
              "      box-shadow: 0px 1px 3px 1px rgba(0, 0, 0, 0.15);\n",
              "      filter: drop-shadow(0px 1px 2px rgba(0, 0, 0, 0.3));\n",
              "      fill: #FFFFFF;\n",
              "    }\n",
              "  </style>\n",
              "\n",
              "    <script>\n",
              "      const buttonEl =\n",
              "        document.querySelector('#df-62d785e9-2f2a-4f9e-8e1a-d9920b4ddf70 button.colab-df-convert');\n",
              "      buttonEl.style.display =\n",
              "        google.colab.kernel.accessAllowed ? 'block' : 'none';\n",
              "\n",
              "      async function convertToInteractive(key) {\n",
              "        const element = document.querySelector('#df-62d785e9-2f2a-4f9e-8e1a-d9920b4ddf70');\n",
              "        const dataTable =\n",
              "          await google.colab.kernel.invokeFunction('convertToInteractive',\n",
              "                                                    [key], {});\n",
              "        if (!dataTable) return;\n",
              "\n",
              "        const docLinkHtml = 'Like what you see? Visit the ' +\n",
              "          '<a target=\"_blank\" href=https://colab.research.google.com/notebooks/data_table.ipynb>data table notebook</a>'\n",
              "          + ' to learn more about interactive tables.';\n",
              "        element.innerHTML = '';\n",
              "        dataTable['output_type'] = 'display_data';\n",
              "        await google.colab.output.renderOutput(dataTable, element);\n",
              "        const docLink = document.createElement('div');\n",
              "        docLink.innerHTML = docLinkHtml;\n",
              "        element.appendChild(docLink);\n",
              "      }\n",
              "    </script>\n",
              "  </div>\n",
              "\n",
              "\n",
              "    <div id=\"df-aa3590b1-5376-4559-a5fa-a344fd5c697a\">\n",
              "      <button class=\"colab-df-quickchart\" onclick=\"quickchart('df-aa3590b1-5376-4559-a5fa-a344fd5c697a')\"\n",
              "                title=\"Suggest charts\"\n",
              "                style=\"display:none;\">\n",
              "\n",
              "<svg xmlns=\"http://www.w3.org/2000/svg\" height=\"24px\"viewBox=\"0 0 24 24\"\n",
              "     width=\"24px\">\n",
              "    <g>\n",
              "        <path d=\"M19 3H5c-1.1 0-2 .9-2 2v14c0 1.1.9 2 2 2h14c1.1 0 2-.9 2-2V5c0-1.1-.9-2-2-2zM9 17H7v-7h2v7zm4 0h-2V7h2v10zm4 0h-2v-4h2v4z\"/>\n",
              "    </g>\n",
              "</svg>\n",
              "      </button>\n",
              "\n",
              "<style>\n",
              "  .colab-df-quickchart {\n",
              "      --bg-color: #E8F0FE;\n",
              "      --fill-color: #1967D2;\n",
              "      --hover-bg-color: #E2EBFA;\n",
              "      --hover-fill-color: #174EA6;\n",
              "      --disabled-fill-color: #AAA;\n",
              "      --disabled-bg-color: #DDD;\n",
              "  }\n",
              "\n",
              "  [theme=dark] .colab-df-quickchart {\n",
              "      --bg-color: #3B4455;\n",
              "      --fill-color: #D2E3FC;\n",
              "      --hover-bg-color: #434B5C;\n",
              "      --hover-fill-color: #FFFFFF;\n",
              "      --disabled-bg-color: #3B4455;\n",
              "      --disabled-fill-color: #666;\n",
              "  }\n",
              "\n",
              "  .colab-df-quickchart {\n",
              "    background-color: var(--bg-color);\n",
              "    border: none;\n",
              "    border-radius: 50%;\n",
              "    cursor: pointer;\n",
              "    display: none;\n",
              "    fill: var(--fill-color);\n",
              "    height: 32px;\n",
              "    padding: 0;\n",
              "    width: 32px;\n",
              "  }\n",
              "\n",
              "  .colab-df-quickchart:hover {\n",
              "    background-color: var(--hover-bg-color);\n",
              "    box-shadow: 0 1px 2px rgba(60, 64, 67, 0.3), 0 1px 3px 1px rgba(60, 64, 67, 0.15);\n",
              "    fill: var(--button-hover-fill-color);\n",
              "  }\n",
              "\n",
              "  .colab-df-quickchart-complete:disabled,\n",
              "  .colab-df-quickchart-complete:disabled:hover {\n",
              "    background-color: var(--disabled-bg-color);\n",
              "    fill: var(--disabled-fill-color);\n",
              "    box-shadow: none;\n",
              "  }\n",
              "\n",
              "  .colab-df-spinner {\n",
              "    border: 2px solid var(--fill-color);\n",
              "    border-color: transparent;\n",
              "    border-bottom-color: var(--fill-color);\n",
              "    animation:\n",
              "      spin 1s steps(1) infinite;\n",
              "  }\n",
              "\n",
              "  @keyframes spin {\n",
              "    0% {\n",
              "      border-color: transparent;\n",
              "      border-bottom-color: var(--fill-color);\n",
              "      border-left-color: var(--fill-color);\n",
              "    }\n",
              "    20% {\n",
              "      border-color: transparent;\n",
              "      border-left-color: var(--fill-color);\n",
              "      border-top-color: var(--fill-color);\n",
              "    }\n",
              "    30% {\n",
              "      border-color: transparent;\n",
              "      border-left-color: var(--fill-color);\n",
              "      border-top-color: var(--fill-color);\n",
              "      border-right-color: var(--fill-color);\n",
              "    }\n",
              "    40% {\n",
              "      border-color: transparent;\n",
              "      border-right-color: var(--fill-color);\n",
              "      border-top-color: var(--fill-color);\n",
              "    }\n",
              "    60% {\n",
              "      border-color: transparent;\n",
              "      border-right-color: var(--fill-color);\n",
              "    }\n",
              "    80% {\n",
              "      border-color: transparent;\n",
              "      border-right-color: var(--fill-color);\n",
              "      border-bottom-color: var(--fill-color);\n",
              "    }\n",
              "    90% {\n",
              "      border-color: transparent;\n",
              "      border-bottom-color: var(--fill-color);\n",
              "    }\n",
              "  }\n",
              "</style>\n",
              "\n",
              "      <script>\n",
              "        async function quickchart(key) {\n",
              "          const quickchartButtonEl =\n",
              "            document.querySelector('#' + key + ' button');\n",
              "          quickchartButtonEl.disabled = true;  // To prevent multiple clicks.\n",
              "          quickchartButtonEl.classList.add('colab-df-spinner');\n",
              "          try {\n",
              "            const charts = await google.colab.kernel.invokeFunction(\n",
              "                'suggestCharts', [key], {});\n",
              "          } catch (error) {\n",
              "            console.error('Error during call to suggestCharts:', error);\n",
              "          }\n",
              "          quickchartButtonEl.classList.remove('colab-df-spinner');\n",
              "          quickchartButtonEl.classList.add('colab-df-quickchart-complete');\n",
              "        }\n",
              "        (() => {\n",
              "          let quickchartButtonEl =\n",
              "            document.querySelector('#df-aa3590b1-5376-4559-a5fa-a344fd5c697a button');\n",
              "          quickchartButtonEl.style.display =\n",
              "            google.colab.kernel.accessAllowed ? 'block' : 'none';\n",
              "        })();\n",
              "      </script>\n",
              "    </div>\n",
              "\n",
              "  <div id=\"id_f32cd353-5600-47c3-9996-a38e3d65967e\">\n",
              "    <style>\n",
              "      .colab-df-generate {\n",
              "        background-color: #E8F0FE;\n",
              "        border: none;\n",
              "        border-radius: 50%;\n",
              "        cursor: pointer;\n",
              "        display: none;\n",
              "        fill: #1967D2;\n",
              "        height: 32px;\n",
              "        padding: 0 0 0 0;\n",
              "        width: 32px;\n",
              "      }\n",
              "\n",
              "      .colab-df-generate:hover {\n",
              "        background-color: #E2EBFA;\n",
              "        box-shadow: 0px 1px 2px rgba(60, 64, 67, 0.3), 0px 1px 3px 1px rgba(60, 64, 67, 0.15);\n",
              "        fill: #174EA6;\n",
              "      }\n",
              "\n",
              "      [theme=dark] .colab-df-generate {\n",
              "        background-color: #3B4455;\n",
              "        fill: #D2E3FC;\n",
              "      }\n",
              "\n",
              "      [theme=dark] .colab-df-generate:hover {\n",
              "        background-color: #434B5C;\n",
              "        box-shadow: 0px 1px 3px 1px rgba(0, 0, 0, 0.15);\n",
              "        filter: drop-shadow(0px 1px 2px rgba(0, 0, 0, 0.3));\n",
              "        fill: #FFFFFF;\n",
              "      }\n",
              "    </style>\n",
              "    <button class=\"colab-df-generate\" onclick=\"generateWithVariable('df_correlation')\"\n",
              "            title=\"Generate code using this dataframe.\"\n",
              "            style=\"display:none;\">\n",
              "\n",
              "  <svg xmlns=\"http://www.w3.org/2000/svg\" height=\"24px\"viewBox=\"0 0 24 24\"\n",
              "       width=\"24px\">\n",
              "    <path d=\"M7,19H8.4L18.45,9,17,7.55,7,17.6ZM5,21V16.75L18.45,3.32a2,2,0,0,1,2.83,0l1.4,1.43a1.91,1.91,0,0,1,.58,1.4,1.91,1.91,0,0,1-.58,1.4L9.25,21ZM18.45,9,17,7.55Zm-12,3A5.31,5.31,0,0,0,4.9,8.1,5.31,5.31,0,0,0,1,6.5,5.31,5.31,0,0,0,4.9,4.9,5.31,5.31,0,0,0,6.5,1,5.31,5.31,0,0,0,8.1,4.9,5.31,5.31,0,0,0,12,6.5,5.46,5.46,0,0,0,6.5,12Z\"/>\n",
              "  </svg>\n",
              "    </button>\n",
              "    <script>\n",
              "      (() => {\n",
              "      const buttonEl =\n",
              "        document.querySelector('#id_f32cd353-5600-47c3-9996-a38e3d65967e button.colab-df-generate');\n",
              "      buttonEl.style.display =\n",
              "        google.colab.kernel.accessAllowed ? 'block' : 'none';\n",
              "\n",
              "      buttonEl.onclick = () => {\n",
              "        google.colab.notebook.generateWithVariable('df_correlation');\n",
              "      }\n",
              "      })();\n",
              "    </script>\n",
              "  </div>\n",
              "\n",
              "    </div>\n",
              "  </div>\n"
            ],
            "application/vnd.google.colaboratory.intrinsic+json": {
              "type": "dataframe",
              "variable_name": "df_correlation",
              "summary": "{\n  \"name\": \"df_correlation\",\n  \"rows\": 19,\n  \"fields\": [\n    {\n      \"column\": \"symboling\",\n      \"properties\": {\n        \"dtype\": \"number\",\n        \"std\": 0.35040586902519905,\n        \"min\": -0.5394071072848416,\n        \"max\": 1.0,\n        \"num_unique_values\": 19,\n        \"samples\": [\n          1.0,\n          -0.5394071072848416,\n          0.09077781900510108\n        ],\n        \"semantic_type\": \"\",\n        \"description\": \"\"\n      }\n    },\n    {\n      \"column\": \"normalized-losses\",\n      \"properties\": {\n        \"dtype\": \"number\",\n        \"std\": 0.28792794597993765,\n        \"min\": -0.3624987576281999,\n        \"max\": 1.0,\n        \"num_unique_values\": 19,\n        \"samples\": [\n          0.4534227708626853,\n          -0.3624987576281999,\n          0.22665370676780802\n        ],\n        \"semantic_type\": \"\",\n        \"description\": \"\"\n      }\n    },\n    {\n      \"column\": \"wheel-base\",\n      \"properties\": {\n        \"dtype\": \"number\",\n        \"std\": 0.5102385542155091,\n        \"min\": -0.5669480183514215,\n        \"max\": 1.0,\n        \"num_unique_values\": 19,\n        \"samples\": [\n          -0.5331120011566653,\n          0.6074167141341172,\n          0.3819842534179905\n        ],\n        \"semantic_type\": \"\",\n        \"description\": \"\"\n      }\n    },\n    {\n      \"column\": \"length\",\n      \"properties\": {\n        \"dtype\": \"number\",\n        \"std\": 0.5440153328625768,\n        \"min\": -0.7151236281571696,\n        \"max\": 1.0,\n        \"num_unique_values\": 19,\n        \"samples\": [\n          -0.3598825259028012,\n          0.5223668988041609,\n          0.5830733370474581\n        ],\n        \"semantic_type\": \"\",\n        \"description\": \"\"\n      }\n    },\n    {\n      \"column\": \"width\",\n      \"properties\": {\n        \"dtype\": \"number\",\n        \"std\": 0.5219514106052898,\n        \"min\": -0.6845498891479668,\n        \"max\": 1.0,\n        \"num_unique_values\": 19,\n        \"samples\": [\n          -0.24282121707162668,\n          0.35112650211256896,\n          0.6040989067787835\n        ],\n        \"semantic_type\": \"\",\n        \"description\": \"\"\n      }\n    },\n    {\n      \"column\": \"height\",\n      \"properties\": {\n        \"dtype\": \"number\",\n        \"std\": 0.37530877706712146,\n        \"min\": -0.5394071072848416,\n        \"max\": 1.0,\n        \"num_unique_values\": 19,\n        \"samples\": [\n          -0.5394071072848416,\n          1.0,\n          -0.031489154161358286\n        ],\n        \"semantic_type\": \"\",\n        \"description\": \"\"\n      }\n    },\n    {\n      \"column\": \"curb-weight\",\n      \"properties\": {\n        \"dtype\": \"number\",\n        \"std\": 0.5718528326725066,\n        \"min\": -0.8081463066086498,\n        \"max\": 1.0,\n        \"num_unique_values\": 19,\n        \"samples\": [\n          -0.22612124125399968,\n          0.35408492156695337,\n          0.7507488382831281\n        ],\n        \"semantic_type\": \"\",\n        \"description\": \"\"\n      }\n    },\n    {\n      \"column\": \"engine-size\",\n      \"properties\": {\n        \"dtype\": \"number\",\n        \"std\": 0.5298525452366484,\n        \"min\": -0.7340615743624507,\n        \"max\": 1.0,\n        \"num_unique_values\": 19,\n        \"samples\": [\n          -0.055328721076283206,\n          0.10051773079777358,\n          0.8253768008523205\n        ],\n        \"semantic_type\": \"\",\n        \"description\": \"\"\n      }\n    },\n    {\n      \"column\": \"bore\",\n      \"properties\": {\n        \"dtype\": \"number\",\n        \"std\": 0.44844732861954817,\n        \"min\": -0.5984547247722217,\n        \"max\": 1.0,\n        \"num_unique_values\": 19,\n        \"samples\": [\n          -0.14212456472910742,\n          0.19948973194043146,\n          0.5791142100213155\n        ],\n        \"semantic_type\": \"\",\n        \"description\": \"\"\n      }\n    },\n    {\n      \"column\": \"stroke\",\n      \"properties\": {\n        \"dtype\": \"number\",\n        \"std\": 0.25284840825850374,\n        \"min\": -0.24019270754383368,\n        \"max\": 1.0,\n        \"num_unique_values\": 19,\n        \"samples\": [\n          -0.013520478227297088,\n          -0.0847554392181277,\n          0.13940890563538588\n        ],\n        \"semantic_type\": \"\",\n        \"description\": \"\"\n      }\n    },\n    {\n      \"column\": \"compression-ratio\",\n      \"properties\": {\n        \"dtype\": \"number\",\n        \"std\": 0.4505687234339252,\n        \"min\": -0.9865269831197727,\n        \"max\": 1.0,\n        \"num_unique_values\": 19,\n        \"samples\": [\n          -0.18027547817653822,\n          0.2697729145074979,\n          -0.23228446194341085\n        ],\n        \"semantic_type\": \"\",\n        \"description\": \"\"\n      }\n    },\n    {\n      \"column\": \"horsepower\",\n      \"properties\": {\n        \"dtype\": \"number\",\n        \"std\": 0.5324730832774142,\n        \"min\": -0.8385666601258228,\n        \"max\": 1.0,\n        \"num_unique_values\": 19,\n        \"samples\": [\n          0.09077781900510108,\n          -0.031489154161358286,\n          1.0\n        ],\n        \"semantic_type\": \"\",\n        \"description\": \"\"\n      }\n    },\n    {\n      \"column\": \"peak-rpm\",\n      \"properties\": {\n        \"dtype\": \"number\",\n        \"std\": 0.3566802324327178,\n        \"min\": -0.4814189466437025,\n        \"max\": 1.0,\n        \"num_unique_values\": 19,\n        \"samples\": [\n          0.22943625952813712,\n          -0.27002029724729915,\n          0.11569501879764718\n        ],\n        \"semantic_type\": \"\",\n        \"description\": \"\"\n      }\n    },\n    {\n      \"column\": \"city-mpg\",\n      \"properties\": {\n        \"dtype\": \"number\",\n        \"std\": 0.5698785888288521,\n        \"min\": -0.9515634765019945,\n        \"max\": 1.0,\n        \"num_unique_values\": 19,\n        \"samples\": [\n          0.0046878529708127194,\n          -0.1285234721118047,\n          -0.8385666601258228\n        ],\n        \"semantic_type\": \"\",\n        \"description\": \"\"\n      }\n    },\n    {\n      \"column\": \"highway-mpg\",\n      \"properties\": {\n        \"dtype\": \"number\",\n        \"std\": 0.5725789945595197,\n        \"min\": -0.9315649205996323,\n        \"max\": 1.0,\n        \"num_unique_values\": 19,\n        \"samples\": [\n          0.07335903143466026,\n          -0.18166961758533776,\n          -0.8151873140650374\n        ],\n        \"semantic_type\": \"\",\n        \"description\": \"\"\n      }\n    },\n    {\n      \"column\": \"price\",\n      \"properties\": {\n        \"dtype\": \"number\",\n        \"std\": 0.5141769925235867,\n        \"min\": -0.7074662427380918,\n        \"max\": 1.0,\n        \"num_unique_values\": 19,\n        \"samples\": [\n          -0.07642047061546399,\n          0.18240664117726232,\n          0.8020402807928595\n        ],\n        \"semantic_type\": \"\",\n        \"description\": \"\"\n      }\n    },\n    {\n      \"column\": \"city-L/100km\",\n      \"properties\": {\n        \"dtype\": \"number\",\n        \"std\": 0.578463967708336,\n        \"min\": -0.9515634765019945,\n        \"max\": 1.0,\n        \"num_unique_values\": 19,\n        \"samples\": [\n          0.021612082169882245,\n          0.11112042543980909,\n          0.9046105267306294\n        ],\n        \"semantic_type\": \"\",\n        \"description\": \"\"\n      }\n    },\n    {\n      \"column\": \"diesel\",\n      \"properties\": {\n        \"dtype\": \"number\",\n        \"std\": 0.44953598426054037,\n        \"min\": -1.0,\n        \"max\": 1.0,\n        \"num_unique_values\": 19,\n        \"samples\": [\n          -0.1925439658319513,\n          0.2790634920272399,\n          -0.169127748445147\n        ],\n        \"semantic_type\": \"\",\n        \"description\": \"\"\n      }\n    },\n    {\n      \"column\": \"gas\",\n      \"properties\": {\n        \"dtype\": \"number\",\n        \"std\": 0.4495359842605403,\n        \"min\": -1.0,\n        \"max\": 1.0,\n        \"num_unique_values\": 19,\n        \"samples\": [\n          0.1925439658319512,\n          -0.27906349202723985,\n          0.16912774844514705\n        ],\n        \"semantic_type\": \"\",\n        \"description\": \"\"\n      }\n    }\n  ]\n}"
            }
          },
          "metadata": {},
          "execution_count": 176
        }
      ]
    },
    {
      "cell_type": "code",
      "source": [
        "##Checking row and index values\n",
        "df_correlation.loc['gas','symboling']"
      ],
      "metadata": {
        "colab": {
          "base_uri": "https://localhost:8080/"
        },
        "id": "rLNH77YHmSy6",
        "outputId": "b78c9755-6b88-4e19-dbc9-eb3a389c1c7b"
      },
      "execution_count": null,
      "outputs": [
        {
          "output_type": "execute_result",
          "data": {
            "text/plain": [
              "np.float64(0.1925439658319512)"
            ]
          },
          "metadata": {},
          "execution_count": 180
        }
      ]
    },
    {
      "cell_type": "code",
      "source": [
        "col_corr=[]\n",
        "for row in df_correlation.index:\n",
        "  row_value=df_correlation.loc[row,'price']\n",
        "  if abs(row_value)>=0.75 and row !='price':\n",
        "    col_corr.append(row)\n",
        "    ##print(f\"The correlation for {row} and {col} is : {row_value}\")\n",
        "\n",
        "print(f\"Features which are highly correlated with price are:{col_corr}\")\n"
      ],
      "metadata": {
        "colab": {
          "base_uri": "https://localhost:8080/"
        },
        "id": "L7PNE3Elgilb",
        "outputId": "275ee47a-01b8-4129-f956-225ee0924317"
      },
      "execution_count": null,
      "outputs": [
        {
          "output_type": "stream",
          "name": "stdout",
          "text": [
            "Features which are highly correlated with price are:['curb-weight', 'engine-size', 'horsepower', 'city-L/100km']\n"
          ]
        }
      ]
    }
  ]
}